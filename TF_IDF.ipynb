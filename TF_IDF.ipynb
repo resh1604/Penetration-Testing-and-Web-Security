{
  "nbformat": 4,
  "nbformat_minor": 0,
  "metadata": {
    "colab": {
      "name": "Untitled18.ipynb",
      "version": "0.3.2",
      "provenance": [],
      "include_colab_link": true
    },
    "kernelspec": {
      "name": "python3",
      "display_name": "Python 3"
    }
  },
  "cells": [
    {
      "cell_type": "markdown",
      "metadata": {
        "id": "view-in-github",
        "colab_type": "text"
      },
      "source": [
        "<a href=\"https://colab.research.google.com/github/resh1604/Penetration-Testing-and-Web-Security/blob/master/TF_IDF.ipynb\" target=\"_parent\"><img src=\"https://colab.research.google.com/assets/colab-badge.svg\" alt=\"Open In Colab\"/></a>"
      ]
    },
    {
      "metadata": {
        "id": "U9MaL7CYchl2",
        "colab_type": "code",
        "outputId": "6de5baff-283f-49b6-b7bc-91a1c776703c",
        "colab": {
          "base_uri": "https://localhost:8080/",
          "height": 54
        }
      },
      "cell_type": "code",
      "source": [
        "!pip install wget"
      ],
      "execution_count": 0,
      "outputs": [
        {
          "output_type": "stream",
          "text": [
            "Requirement already satisfied: wget in /usr/local/lib/python3.6/dist-packages (3.2)\n"
          ],
          "name": "stdout"
        }
      ]
    },
    {
      "metadata": {
        "id": "rgDaCAcQclWx",
        "colab_type": "code",
        "colab": {}
      },
      "cell_type": "code",
      "source": [
        "import wget\n",
        "\n",
        "link_to_data = 'https://github.com/tulip-lab/sit742/raw/master/Assessment/2019/data/wine.json'\n",
        "DataSet = wget.download(link_to_data)\n",
        "\n",
        "link_to_data = 'https://github.com/tulip-lab/sit742/raw/master/Assessment/2019/data/stopwords.txt'\n",
        "\n",
        "DataSet = wget.download(link_to_data)"
      ],
      "execution_count": 0,
      "outputs": []
    },
    {
      "metadata": {
        "id": "RN0PncWVcoWu",
        "colab_type": "code",
        "outputId": "6c2e0f54-4dfd-47e3-f0c2-006505217ac6",
        "colab": {
          "base_uri": "https://localhost:8080/",
          "height": 34
        }
      },
      "cell_type": "code",
      "source": [
        "!ls"
      ],
      "execution_count": 0,
      "outputs": [
        {
          "output_type": "stream",
          "text": [
            " sample_data  'stopwords (1).txt'   stopwords.txt  'wine (1).json'   wine.json\n"
          ],
          "name": "stdout"
        }
      ]
    },
    {
      "metadata": {
        "id": "dFenwR_Acpa9",
        "colab_type": "code",
        "colab": {}
      },
      "cell_type": "code",
      "source": [
        "import json\n",
        "import pandas as pd\n",
        "import matplotlib.pyplot as plt"
      ],
      "execution_count": 0,
      "outputs": []
    },
    {
      "metadata": {
        "id": "Z14xwjdkctk0",
        "colab_type": "code",
        "colab": {}
      },
      "cell_type": "code",
      "source": [
        "file = 'wine.json'"
      ],
      "execution_count": 0,
      "outputs": []
    },
    {
      "metadata": {
        "id": "_9V_KvlFcvsz",
        "colab_type": "code",
        "colab": {}
      },
      "cell_type": "code",
      "source": [
        "df = pd.read_json(file, orient='columns')\n",
        "#df.head(10)\n",
        "#print(df)\n",
        "#print(df.to_json(orient='index', lines='True'))\n",
        "df"
      ],
      "execution_count": 0,
      "outputs": []
    },
    {
      "metadata": {
        "id": "4jc5RX_kc2UD",
        "colab_type": "code",
        "colab": {}
      },
      "cell_type": "code",
      "source": [
        "p2d1 = df.loc[df['variety'] == 'Shiraz']\n",
        "#p2d1\n",
        "\n",
        "p2d2 = p2d1[['description','variety']]\n",
        "p2d2\n",
        "\n",
        "p2d3 = p2d1[['description']]\n",
        "p2d3"
      ],
      "execution_count": 0,
      "outputs": []
    },
    {
      "metadata": {
        "id": "DpKLTZIrdcPo",
        "colab_type": "code",
        "outputId": "ad44c1ca-d84f-4e20-ec32-755e26fe8a89",
        "colab": {
          "base_uri": "https://localhost:8080/",
          "height": 54
        }
      },
      "cell_type": "code",
      "source": [
        "p2d4 =df.loc[:,'description'].head(50)\n",
        "p2d4\n",
        "p2d5 = p2d4.str.cat(sep=', ')\n",
        "p2d5"
      ],
      "execution_count": 0,
      "outputs": [
        {
          "output_type": "execute_result",
          "data": {
            "text/plain": [
              "\"Aromas include tropical fruit, broom, brimstone and dried herb. The palate isn't overly expressive, offering unripened apple, citrus and dried sage alongside brisk acidity., This is ripe and fruity, a wine that is smooth while still structured. Firm tannins are filled out with juicy red berry fruits and freshened with acidity. It's  already drinkable, although it will certainly be better from 2016., Tart and snappy, the flavors of lime flesh and rind dominate. Some green pineapple pokes through, with crisp acidity underscoring the flavors. The wine was all stainless-steel fermented., Pineapple rind, lemon pith and orange blossom start off the aromas. The palate is a bit more opulent, with notes of honey-drizzled guava and mango giving way to a slightly astringent, semidry finish., Much like the regular bottling from 2012, this comes across as rather rough and tannic, with rustic, earthy, herbal characteristics. Nonetheless, if you think of it as a pleasantly unfussy country wine, it's a good companion to a hearty winter stew., Blackberry and raspberry aromas show a typical Navarran whiff of green herbs and, in this case, horseradish. In the mouth, this is fairly full bodied, with tomatoey acidity. Spicy, herbal flavors complement dark plum fruit, while the finish is fresh but grabby., Here's a bright, informal red that opens with aromas of candied berry, white pepper and savory herb that carry over to the palate. It's balanced with fresh acidity and soft tannins., This dry and restrained wine offers spice in profusion. Balanced with acidity and a firm texture, it's very much for food., Savory dried thyme notes accent sunnier flavors of preserved peach in this brisk, off-dry wine. It's fruity and fresh, with an elegant, sprightly footprint., This has great depth of flavor with its fresh apple and pear fruits and touch of spice. It's off dry while balanced with acidity and a crisp texture. Drink now., Soft, supple plum envelopes an oaky structure in this Cabernet, supported by 15% Merlot. Coffee and chocolate complete the picture, finishing strong at the end, resulting in a value-priced wine of attractive flavor and immediate accessibility., This is a dry wine, very spicy, with a tight, taut texture and strongly mineral character layered with citrus as well as pepper. It's a food wine with its almost crisp aftertaste., Slightly reduced, this wine offers a chalky, tannic backbone to an otherwise juicy explosion of rich black cherry, the whole accented throughout by firm oak and cigar box., This is dominated by oak and oak-driven aromas that include roasted coffee bean, espresso, coconut and vanilla that carry over to the palate, together with plum and chocolate. Astringent, drying tannins give it a rather abrupt finish., Building on 150 years and six generations of winemaking tradition, the winery trends toward a leaner style, with the classic California buttercream aroma cut by tart green apple. In this good everyday sipping wine, flavors that range from pear to barely ripe pineapple prove approachable but not distinctive., Zesty orange peels and apple notes abound in this sprightly, mineral-toned Riesling. Off dry on the palate, yet racy and lean, it's a refreshing, easy quaffer with wide appeal., Baked plum, molasses, balsamic vinegar and cheesy oak aromas feed into a palate that's braced by a bolt of acidity. A compact set of saucy red-berry and plum flavors features tobacco and peppery accents, while the finish is mildly green in flavor, with respectable weight and balance., Raw black-cherry aromas are direct and simple but good. This has a juicy feel that thickens over time, with oak character and extract becoming more apparent. A flavor profile driven by dark-berry fruits and smoldering oak finishes meaty but hot., Desiccated blackberry, leather, charred wood and mint aromas carry the nose on this full-bodied, tannic, heavily oaked Tinto Fino. Flavors of clove and woodspice sit on top of blackberry fruit, then hickory and other forceful oak-based aromas rise up and dominate the finish., Red fruit aromas pervade on the nose, with cigar box and menthol notes riding in the back. The palate is slightly restrained on entry, but opens up to riper notes of cherry and plum specked with crushed pepper. This blend of Merlot, Cabernet Sauvignon and Cabernet Franc is approachable now and ready to be enjoyed., Ripe aromas of dark berries mingle with ample notes of black pepper, toasted vanilla and dusty tobacco. The palate is oak-driven in nature, but notes of tart red currant shine through, offering a bit of levity., A sleek mix of tart berry, stem and herb, along with a hint of oak and chocolate, this is a fair value in a widely available, drink-now Oregon Pinot. The wine oak-aged for six months, whether in neutral or re-staved is not indicated., Delicate aromas recall white flower and citrus. The palate offers passion fruit, lime and white peach with a hint of mineral alongside bright acidity., This wine from the Geneseo district offers aromas of sour plums and just enough cigar box to tempt the nose. The flavors are a bit flat at first, then the acidity and tension of sour cherries emerges in the midpalate, bolstered by some black licorice., Aromas of prune, blackcurrant, toast and oak carry through to the extracted palate, along with flavors of black cherry and roasted coffee beans. Firm but drying tannins provide the framework., Oak and earth intermingle around robust aromas of wet forest floor in this vineyard-designated Pinot that hails from a high-elevation site. Small in production, it offers intense, full-bodied raspberry and blackberry steeped in smoky spice and smooth texture., Pretty aromas of yellow flower and stone fruit lead the nose. The bright palate offers yellow apple, apricot, vanilla and delicate notes of lightly toasted oak alongside crisp acidity., Aromas recall ripe dark berry, toast and a whiff of cake spice. The soft, informal palate offers sour cherry, vanilla and a hint of espresso alongside round tannins. Drink soon., Aromas suggest mature berry, scorched earth, animal, toast and anise. The palate offers ripe black berry, oak, espresso, cocoa and vanilla alongside dusty tannins., Clarksburg is becoming a haven for Chenin Blanc in California. This bottling, using fruit sourced from several vineyards in the area, is balanced with just a trace of sweetness in the background (1% residual sugar). This is crisp, straightforward and blessed with notes of pear and lime. Drink it cold., Red cherry fruit comes laced with light tannins, giving this bright wine an open, juicy character., Merlot and Nero d'Avola form the base for this easy red wine that would pair with fettuccine and meat sauce or pork roast. The quality of the fruit is clean, bright and sharp., Part of the extended Calanìca series, this Grillo-Viognier blend shows aromas of honeysuckle and jasmine, backed by touches of cut grass and wild sage. In the mouth, it shows ripe yellow-fruit flavors., Rustic and dry, this has flavors of berries, currants, licorice and spices. Made from Cabernet Franc and Cabernet Sauvignon., This shows a tart, green gooseberry flavor that is similar to New Zealand Sauvignon Blanc. Other notes include tropical fruit, orange and honey. Unoaked, with a splash of Muscat, this has commendable dryness and acidity., As with many of the Erath 2010 vineyard designates, this is strongly herbal. The notes of leaf and herb create somewhat unripe flavor impressions, with a touch of bitterness on the finish. The fruit just passes the ripeness of sweet tomatoes., White flower, lychee and apple aromas carry the mellow bouquet. The chunky-feeling palate bears powdery, sweet flavors of peach and melon, mixed with greener notes of grass and lime. The 80% Viognier component is typical of the warm climate: plump and oily, with a short finish. Chardonnay fills out the blend., This concentrated Cabernet offers aromas of cured meat, dried fruit and rosemary. Barbecue spice and teriyaki sauce flavors give the wine a bold, chewy feel., Inky in color, this wine has plump aromas of ripe fruit, blackberry jam and rum cake. On the palate, it is soft and smooth., Part of the natural wine movement, this wine is made from organic grapes, and the label is printed with vegetable ink on recycled paper. The quality of fruit is very nice, with a juicy palate and a bright berry flavor on the finish., Catarratto is one of Sicily's most widely farmed white grape varieties. This expression shows a mineral note, backed by citrus and almond blossom touches., A stiff, tannic wine, this slowly opens and brings brambly berry flavors into play, along with notes of earthy herbs. There's a touch of bitterness to the tannins., This is a festive wine, with soft, ripe fruit and acidity, plus a red berry flavor., The clean, brisk mouthfeel gives this slightly oaked Sauvignon Blanc instant likeability. It's dry with a rich streak of honey that sweetens the citrus, pear and tropical fruit flavors. Pair this with Asian fare, ham or a green salad with grapefruit sections., A berry aroma comes with cola and herb notes. The palate is tangy and racy, and it delivers raspberry and plum flavors, with a modest finish., Right out of the starting blocks this is an oaky wine, dripping with caramel and vanilla notes. The texture on the midpalate is finessed and graceful, with drying tannins that latch onto the oak-driven finish. An eccentric blend of 50% Tannat, 35% Petit Verdot and 15% Pinotage., Spicy, fresh and clean, this would pair with fried seafood or spaghetti con vongole. It offers pretty citrus tones followed by a drying mineral nuance., This is a sweet wine with flavors of white sugar, orange, honey and vanilla, all brightened by crisp acidity., This bottling resembles the New Zealand paradigm of Sauvignon Blanc, bearing aromas of grapefruit, passion fruit and kiwi; a sprinkling of graham cracker adds interest. The wine hits the palate like a fleshy fist, with an intense, grassy gooseberry flavor that provides plenty of punch. Pair with apricot-glazed roasted chicken., Soft and fruity, this is a generous, ripe wine that's full of juicy red-cherry fruits and gentle tannins. It has some richness, giving a sweet character to this open, ready-to-drink wine.\""
            ]
          },
          "metadata": {
            "tags": []
          },
          "execution_count": 12
        }
      ]
    },
    {
      "metadata": {
        "id": "AEzlQrU7e0GC",
        "colab_type": "code",
        "colab": {}
      },
      "cell_type": "code",
      "source": [
        "import re\n",
        "import nltk\n",
        "from nltk.tokenize import word_tokenize,sent_tokenize\n",
        "from nltk.corpus import stopwords\n",
        "import math"
      ],
      "execution_count": 0,
      "outputs": []
    },
    {
      "metadata": {
        "id": "ZSw885NYfJiW",
        "colab_type": "code",
        "colab": {}
      },
      "cell_type": "code",
      "source": [
        "def remove_useless(s):\n",
        "  stripped = re.sub('[^\\w\\s]', '',s)\n",
        "  stripped = re.sub('_','',stripped)\n",
        "  stripped = re.sub('\\s', '',stripped)\n",
        "  stripped = stripped.strip()\n",
        "  return stripped"
      ],
      "execution_count": 0,
      "outputs": []
    },
    {
      "metadata": {
        "id": "3etngR3zfne_",
        "colab_type": "code",
        "colab": {}
      },
      "cell_type": "code",
      "source": [
        "def get_doc(sent):\n",
        "    doc_info = []\n",
        "    i = 0\n",
        "    for sent in text_sents_clean:\n",
        "        i =+ 1\n",
        "        count = count_words(sent)\n",
        "        temp = {'doc_id' : i, 'doc_length' : count}\n",
        "        doc_info.append(temp)\n",
        "    return doc_info"
      ],
      "execution_count": 0,
      "outputs": []
    },
    {
      "metadata": {
        "id": "8EfMESljgTtm",
        "colab_type": "code",
        "colab": {}
      },
      "cell_type": "code",
      "source": [
        "def count_words(sent):\n",
        "    count = 0\n",
        "    words = word_tokenize(sent)\n",
        "    for word in words:\n",
        "      count += 1\n",
        "    return count"
      ],
      "execution_count": 0,
      "outputs": []
    },
    {
      "metadata": {
        "id": "rbxS-_iKglhZ",
        "colab_type": "code",
        "colab": {}
      },
      "cell_type": "code",
      "source": [
        "def create_freq_dict(sents):\n",
        "    i = 0\n",
        "    freqDict_list = []\n",
        "    for sent in sents:\n",
        "        i += 1\n",
        "        freq_dict = {}\n",
        "        words = word_tokenize(sent)\n",
        "        for word in words:\n",
        "            word = word.lower()\n",
        "            if word in freq_dict:\n",
        "                freq_dict[word] += 1\n",
        "            else:\n",
        "                freq_dict[word] = 1\n",
        "            temp = {'doc_id' : i, 'freq_dict' : freq_dict}\n",
        "        freqDict_list.append(temp)\n",
        "    return freqDict_list\n",
        "              "
      ],
      "execution_count": 0,
      "outputs": []
    },
    {
      "metadata": {
        "id": "kZLygV-7iKfu",
        "colab_type": "code",
        "colab": {}
      },
      "cell_type": "code",
      "source": [
        "def computeTF(doc_info, freqDict_list):\n",
        "    TF_scores = []\n",
        "    for tempDict in freqDict_list:\n",
        "        id = tempDict['doc_id']\n",
        "        for k in tempDict['freq_dict']:\n",
        "            temp = {'doc_id' : id,\n",
        "                    'TF_score' : tempDict['freq_dict'][k]/doc_info[id-1]['doc_length'], \n",
        "                    'key' : k}\n",
        "            TF_scores.append(temp)\n",
        "    return TF_scores      "
      ],
      "execution_count": 0,
      "outputs": []
    },
    {
      "metadata": {
        "id": "ZAIabZi2jJFA",
        "colab_type": "code",
        "colab": {}
      },
      "cell_type": "code",
      "source": [
        "def computeIDF(doc_info, freqDict_list):\n",
        "  IDF_scores = []\n",
        "  counter = 0\n",
        "  for dict in freqDict_list:\n",
        "      counter += 1\n",
        "      for k in dict['freq_dict'].keys():\n",
        "          count = sum([k in tempDict['freq_dict'] for tempDict in freqDict_list])  \n",
        "          temp = {'doc_id' : counter, 'IDF_score' : math.log(len(doc_info)/count),\n",
        "                    'key' : k}\n",
        "          IDF_scores.append(temp)\n",
        "  return IDF_scores  "
      ],
      "execution_count": 0,
      "outputs": []
    },
    {
      "metadata": {
        "id": "ofL-NxTakFj1",
        "colab_type": "code",
        "colab": {}
      },
      "cell_type": "code",
      "source": [
        "def computeTFIDF(TF_scores, IDF_scores):\n",
        "  TFIDF_scores = []\n",
        "  for j in IDF_scores:\n",
        "      for i in TF_scores:\n",
        "          if j['key'] == i['key'] and j['doc_id'] == i['doc_id']:\n",
        "              temp = {'doc_id' : j['doc_id'],\n",
        "                      'TFIDF_score' : j['IDF_score']*i['TF_score'],\n",
        "                      'key' : i['key']}\n",
        "      TFIDF_scores.append(temp)\n",
        "  return TFIDF_scores"
      ],
      "execution_count": 0,
      "outputs": []
    },
    {
      "metadata": {
        "id": "sXCwvX01lPgK",
        "colab_type": "code",
        "colab": {}
      },
      "cell_type": "code",
      "source": [
        "text_sents = sent_tokenize(p2d5)\n",
        "text_sents_clean = [remove_useless(s) for s in text_sents]\n",
        "doc_info = get_doc(text_sents_clean)"
      ],
      "execution_count": 0,
      "outputs": []
    },
    {
      "metadata": {
        "id": "eAuhmwPKmw77",
        "colab_type": "code",
        "colab": {}
      },
      "cell_type": "code",
      "source": [
        "doc_info"
      ],
      "execution_count": 0,
      "outputs": []
    },
    {
      "metadata": {
        "id": "zQAKHX4am65t",
        "colab_type": "code",
        "colab": {}
      },
      "cell_type": "code",
      "source": [
        "freqDict_list = create_freq_dict(text_sents_clean)\n",
        "TF_scores = computeTF(doc_info, freqDict_list)\n",
        "IDF_scores = computeIDF(doc_info, freqDict_list)"
      ],
      "execution_count": 0,
      "outputs": []
    },
    {
      "metadata": {
        "id": "fQp3UPS2oBDo",
        "colab_type": "code",
        "colab": {}
      },
      "cell_type": "code",
      "source": [
        "freqDict_list"
      ],
      "execution_count": 0,
      "outputs": []
    },
    {
      "metadata": {
        "id": "ILfSIawZoJu_",
        "colab_type": "code",
        "colab": {}
      },
      "cell_type": "code",
      "source": [
        "TF_scores"
      ],
      "execution_count": 0,
      "outputs": []
    },
    {
      "metadata": {
        "id": "o9KGj1HfoN7Q",
        "colab_type": "code",
        "colab": {}
      },
      "cell_type": "code",
      "source": [
        "IDF_scores"
      ],
      "execution_count": 0,
      "outputs": []
    },
    {
      "metadata": {
        "id": "E_W7eGKSoYqY",
        "colab_type": "code",
        "colab": {}
      },
      "cell_type": "code",
      "source": [
        "TFIDF_scores = computeTFIDF(TF_scores, IDF_scores)\n",
        "TFIDF_scores"
      ],
      "execution_count": 0,
      "outputs": []
    }
  ]
}